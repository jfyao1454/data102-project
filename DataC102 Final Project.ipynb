{
 "cells": [
  {
   "cell_type": "markdown",
   "id": "b0a17ee8",
   "metadata": {},
   "source": [
    "# Data C102 Final Project\n",
    "\n",
    "By: Austin Cheng, Jasmine Wang, Laeticia Yang, Jeffrey Yao"
   ]
  },
  {
   "cell_type": "markdown",
   "id": "2ad78347",
   "metadata": {},
   "source": [
    "## EDA"
   ]
  },
  {
   "cell_type": "markdown",
   "id": "863aa290",
   "metadata": {},
   "source": [
    "### 1. Quantitative Variables"
   ]
  },
  {
   "cell_type": "markdown",
   "id": "e60c9f25",
   "metadata": {},
   "source": [
    "#### Trends"
   ]
  },
  {
   "cell_type": "markdown",
   "id": "69274512",
   "metadata": {},
   "source": [
    "#### Relevance to Research Question"
   ]
  },
  {
   "cell_type": "markdown",
   "id": "b8edd2f5",
   "metadata": {},
   "source": [
    "### 2. Categorical Variables"
   ]
  },
  {
   "cell_type": "markdown",
   "id": "49e14068",
   "metadata": {},
   "source": [
    "#### Trends"
   ]
  },
  {
   "cell_type": "markdown",
   "id": "63e557b1",
   "metadata": {},
   "source": [
    "#### Relevance to Research Question"
   ]
  },
  {
   "cell_type": "markdown",
   "id": "5286ea7c",
   "metadata": {},
   "source": [
    "### 3. Data Cleaning"
   ]
  },
  {
   "cell_type": "code",
   "execution_count": null,
   "id": "b4676fc0",
   "metadata": {},
   "outputs": [],
   "source": []
  }
 ],
 "metadata": {
  "kernelspec": {
   "display_name": "Python 3 (ipykernel)",
   "language": "python",
   "name": "python3"
  },
  "language_info": {
   "codemirror_mode": {
    "name": "ipython",
    "version": 3
   },
   "file_extension": ".py",
   "mimetype": "text/x-python",
   "name": "python",
   "nbconvert_exporter": "python",
   "pygments_lexer": "ipython3",
   "version": "3.9.13"
  }
 },
 "nbformat": 4,
 "nbformat_minor": 5
}
